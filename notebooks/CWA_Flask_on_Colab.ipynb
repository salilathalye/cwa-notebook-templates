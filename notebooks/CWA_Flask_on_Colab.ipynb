{
  "nbformat": 4,
  "nbformat_minor": 0,
  "metadata": {
    "colab": {
      "name": "CWA_Flask_on_Colab.ipynb",
      "provenance": [],
      "collapsed_sections": [],
      "toc_visible": true
    },
    "kernelspec": {
      "name": "python3",
      "display_name": "Python 3"
    }
  },
  "cells": [
    {
      "cell_type": "markdown",
      "metadata": {
        "id": "IWq2Re1i5qoG"
      },
      "source": [
        "# Flask on Google Colab\r\n",
        "\r\n",
        "Google Colab gives us the ability to run Python code on their servers in a familiar Jupyter Notebook environment. Flask is a Python library where we can quickly develop interactive web-based applications, ideal for building data products and serving machine learning models. When we run Flask on Google Colab we need a way to connect our local browser to the application which is running on the Google Colab server. ngrok helps establish a tunnel between our local browser and the application, ```flask-ngrok``` provides this functionality.\r\n",
        "\r\n",
        "* [Google Colab](https://colab.research.google.com)\r\n",
        "* [Flask](https://palletsprojects.com/p/flask/)\r\n",
        "* [ngrok](https://ngrok.com)\r\n",
        "* [flask-ngrok](https://pypi.org/project/flask-ngrok/)"
      ]
    },
    {
      "cell_type": "code",
      "metadata": {
        "id": "9YGa8bPcz2c_",
        "colab": {
          "base_uri": "https://localhost:8080/"
        },
        "outputId": "25cf2d41-8f64-4609-b40c-94ec659b39b7"
      },
      "source": [
        "!pip install flask-ngrok --quiet\r\n",
        "!pip install flask-restful --quiet"
      ],
      "execution_count": null,
      "outputs": [
        {
          "output_type": "stream",
          "text": [
            "\u001b[?25l\r\u001b[K     |███████▍                        | 10kB 17.1MB/s eta 0:00:01\r\u001b[K     |██████████████▉                 | 20kB 21.9MB/s eta 0:00:01\r\u001b[K     |██████████████████████▎         | 30kB 10.7MB/s eta 0:00:01\r\u001b[K     |█████████████████████████████▋  | 40kB 8.6MB/s eta 0:00:01\r\u001b[K     |████████████████████████████████| 51kB 4.1MB/s \n",
            "\u001b[?25h"
          ],
          "name": "stdout"
        }
      ]
    },
    {
      "cell_type": "markdown",
      "metadata": {
        "id": "01Dsbt0A4A_a"
      },
      "source": [
        "Use Postman to test the api.\r\n",
        "\r\n"
      ]
    },
    {
      "cell_type": "code",
      "metadata": {
        "id": "kxkXVCNE0dLa",
        "colab": {
          "base_uri": "https://localhost:8080/"
        },
        "outputId": "739379bc-8248-41e3-b843-7499482f341d"
      },
      "source": [
        "from flask_ngrok import run_with_ngrok\r\n",
        "from flask import Flask\r\n",
        "from flask_restful import Api, Resource, reqparse\r\n",
        "\r\n",
        "app = Flask(__name__)\r\n",
        "api = Api(app)\r\n",
        "\r\n",
        "run_with_ngrok(app)\r\n",
        "\r\n",
        "class Predict(Resource):\r\n",
        "\r\n",
        "  def post(self):\r\n",
        "    parser = reqparse.RequestParser()\r\n",
        "    out = {'Prediction': 42}\r\n",
        "    return out, 200\r\n",
        "\r\n",
        "\r\n",
        "api.add_resource(Predict, '/predict')\r\n",
        "\r\n",
        "\r\n",
        "\r\n",
        "\r\n",
        "\r\n",
        "if __name__ == '__main__': \r\n",
        "  app.run()"
      ],
      "execution_count": null,
      "outputs": [
        {
          "output_type": "stream",
          "text": [
            " * Serving Flask app \"__main__\" (lazy loading)\n",
            " * Environment: production\n",
            "\u001b[31m   WARNING: This is a development server. Do not use it in a production deployment.\u001b[0m\n",
            "\u001b[2m   Use a production WSGI server instead.\u001b[0m\n",
            " * Debug mode: off\n"
          ],
          "name": "stdout"
        },
        {
          "output_type": "stream",
          "text": [
            " * Running on http://127.0.0.1:5000/ (Press CTRL+C to quit)\n"
          ],
          "name": "stderr"
        },
        {
          "output_type": "stream",
          "text": [
            " * Running on http://ac789ccb166f.ngrok.io\n",
            " * Traffic stats available on http://127.0.0.1:4040\n"
          ],
          "name": "stdout"
        },
        {
          "output_type": "stream",
          "text": [
            "127.0.0.1 - - [28/Jan/2021 00:14:39] \"\u001b[33mGET / HTTP/1.1\u001b[0m\" 404 -\n",
            "127.0.0.1 - - [28/Jan/2021 00:14:41] \"\u001b[33mGET /favicon.ico HTTP/1.1\u001b[0m\" 404 -\n",
            "127.0.0.1 - - [28/Jan/2021 00:14:50] \"\u001b[31m\u001b[1mGET /predict HTTP/1.1\u001b[0m\" 405 -\n",
            "127.0.0.1 - - [28/Jan/2021 00:15:26] \"\u001b[37mPOST /predict HTTP/1.1\u001b[0m\" 200 -\n"
          ],
          "name": "stderr"
        }
      ]
    }
  ]
}