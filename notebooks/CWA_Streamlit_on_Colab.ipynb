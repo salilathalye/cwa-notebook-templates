{
  "nbformat": 4,
  "nbformat_minor": 0,
  "metadata": {
    "colab": {
      "name": "CWA_Streamlit_on_Colab.ipynb",
      "provenance": [],
      "collapsed_sections": [],
      "toc_visible": true
    },
    "kernelspec": {
      "name": "python3",
      "display_name": "Python 3"
    }
  },
  "cells": [
    {
      "cell_type": "markdown",
      "metadata": {
        "id": "IWq2Re1i5qoG"
      },
      "source": [
        "# streamlit on Google Colab using pyngrok\r\n",
        "Google Colab gives us the ability to run Python code on their servers in a familiar Jupyter Notebook environment. streamlit is a Python library where we can quickly develop interactive web-based applications, ideal for building data products and serving machine learning models. When we run streamlit on Google Colab we need a way to connect our local browser to the application which is running on the Google Colab server. ngrok helps establish a tunnel between our local browser and the application.\r\n",
        "\r\n",
        "* [Google Colab](https://colab.research.google.com)\r\n",
        "* [streamlit](https://streamlit.io)\r\n",
        "* [ngrok](https://ngrok.com)\r\n",
        "* [pyngrok](https://pypi.org/project/pyngrok/)"
      ]
    },
    {
      "cell_type": "code",
      "metadata": {
        "id": "9YGa8bPcz2c_"
      },
      "source": [
        "!pip install streamlit --quiet\r\n",
        "!pip install pyngrok --quiet"
      ],
      "execution_count": null,
      "outputs": []
    },
    {
      "cell_type": "markdown",
      "metadata": {
        "id": "01Dsbt0A4A_a"
      },
      "source": [
        "Implement the streamlit app in the cell below. The code will be written to ```\r\n",
        "app.py```, using the ```%%writefile``` cell magic command.\r\n",
        "\r\n",
        "Alternatively, download the file from a git repo using\r\n",
        "\r\n",
        "```!wget https://raw.githubusercontent.com/<path to app.py>```\r\n",
        "\r\n"
      ]
    },
    {
      "cell_type": "code",
      "metadata": {
        "id": "kxkXVCNE0dLa"
      },
      "source": [
        "%%writefile app.py\r\n",
        "import streamlit as st\r\n",
        "\r\n",
        "def main():\r\n",
        "  print('Hello World')\r\n",
        "  st.title(\"Running streamlit on Google Colab\")\r\n",
        "  st.header(\"This is an amazing combination!\")\r\n",
        "  st.header(\"Can this update, again?\")\r\n",
        "\r\n",
        "if __name__ == \"__main__\":\r\n",
        "  main()"
      ],
      "execution_count": null,
      "outputs": []
    },
    {
      "cell_type": "markdown",
      "metadata": {
        "id": "q6UOskDc4x1y"
      },
      "source": [
        "This technique uses pyngrok, a python wrapper over [ngrok](https://ngrok.com/) to establish a tunnel between your local browser and the compute resource used by Google Colab to run the notebook. Click on the link which will open a new tab in your local browser.\r\n",
        "\r\n",
        "In this example, we are running the streamlit app in the background. You can update your streamlit app by modifying the preceding cell and re-run it. streamlit will pick up the changes. \r\n"
      ]
    },
    {
      "cell_type": "code",
      "metadata": {
        "id": "uPUJmhgz0dq_"
      },
      "source": [
        "from pyngrok import ngrok\r\n",
        "public_url = ngrok.connect(port='8080')\r\n",
        "print('Link to web app:')\r\n",
        "print (public_url)\r\n",
        "!streamlit run --server.port 80 app.py &>/dev/null&"
      ],
      "execution_count": null,
      "outputs": []
    },
    {
      "cell_type": "markdown",
      "metadata": {
        "id": "Wpj26fdyfqLv"
      },
      "source": [
        "Since the streamlit application is running in the background, we need to terminate the process. Normally, we'd find the pid using the ```ps``` command and issue a ```kill -9 pid``` command. When we try this, we get a defunct process, which requires us to issue a ```kill -9 ppid``` command, where ```ppid``` is the process id of the parent. In the case of this setup, the ```ppid``` of the streamlit process is ```pid=1```, which is the ```node``` process. The current workaround is to Factory Reset the runtime (essentially rebooting the server), perhaps there is a better way to handle \r\n",
        "[this](https://serverfault.com/questions/76263/how-to-kill-a-defunct-process-with-parent-1)."
      ]
    },
    {
      "cell_type": "code",
      "metadata": {
        "id": "WMqNBMUefoBl"
      },
      "source": [
        ""
      ],
      "execution_count": null,
      "outputs": []
    }
  ]
}